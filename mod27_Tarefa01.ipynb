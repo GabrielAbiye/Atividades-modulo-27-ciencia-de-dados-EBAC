{
 "cells": [
  {
   "cell_type": "markdown",
   "metadata": {},
   "source": [
    "![Cabec%CC%A7alho_notebook.png](cabecalho_notebook.png)"
   ]
  },
  {
   "cell_type": "markdown",
   "metadata": {},
   "source": [
    "# PCA - Tarefa 01: *HAR* com PCA\n",
    "\n",
    "Vamos trabalhar com a base da demonstração feita em aula, mas vamos explorar um pouco melhor como é o desempenho da árvore variando o número de componentes principais."
   ]
  },
  {
   "cell_type": "code",
   "execution_count": 1,
   "metadata": {},
   "outputs": [],
   "source": [
    "import pandas as pd\n",
    "\n",
    "import os\n",
    "\n",
    "import time\n",
    "\n",
    "import numpy as np\n",
    "\n",
    "from sklearn.tree import DecisionTreeClassifier\n",
    "\n",
    "from sklearn.decomposition import PCA\n",
    "from sklearn.metrics import accuracy_score\n",
    "from sklearn.model_selection import cross_val_score\n",
    "from sklearn.model_selection import GridSearchCV\n",
    "\n",
    "filename_features = \"../UCI HAR Dataset/UCI HAR Dataset/features.txt\"\n",
    "filename_labels = \"../UCI HAR Dataset/UCI HAR Dataset/activity_labels.txt\"\n",
    "\n",
    "filename_subtrain = \"../UCI HAR Dataset/UCI HAR Dataset/train/subject_train.txt\"\n",
    "filename_xtrain = \"../UCI HAR Dataset/UCI HAR Dataset/train/X_train.txt\"\n",
    "filename_ytrain = \"../UCI HAR Dataset/UCI HAR Dataset/train/y_train.txt\"\n",
    "\n",
    "filename_subtest = \"../UCI HAR Dataset/UCI HAR Dataset/test/subject_test.txt\"\n",
    "filename_xtest = \"../UCI HAR Dataset/UCI HAR Dataset/test/X_test.txt\"\n",
    "filename_ytest = \"../UCI HAR Dataset/UCI HAR Dataset/test/y_test.txt\"\n",
    "\n",
    "# Load the features\n",
    "features = pd.read_csv(filename_features, header=None, names=['nome_var'], sep=\"#\")\n",
    "features_list = features['nome_var'].tolist()  # Convert column to list\n",
    "\n",
    "# Load labels and train/test data\n",
    "labels = pd.read_csv(filename_labels, sep=r'\\s+', header=None, names=['cod_label', 'label'])\n",
    "\n",
    "subject_train = pd.read_csv(filename_subtrain, header=None, names=['subject_id'])\n",
    "X_train = pd.read_csv(filename_xtrain, sep=r'\\s+', header=None, names=features_list)\n",
    "y_train = pd.read_csv(filename_ytrain, header=None, names=['cod_label'])\n",
    "\n",
    "subject_test = pd.read_csv(filename_subtest, header=None, names=['subject_id'])\n",
    "X_test = pd.read_csv(filename_xtest, sep=r'\\s+', header=None, names=features_list)\n",
    "y_test = pd.read_csv(filename_ytest, header=None, names=['cod_label'])\n"
   ]
  },
  {
   "cell_type": "markdown",
   "metadata": {},
   "source": [
    "## Árvore de decisão\n",
    "\n",
    "Rode uma árvore de decisão com todas as variáveis, utilizando o ```ccp_alpha=0.001```. Avalie a acurácia nas bases de treinamento e teste. Avalie o tempo de processamento."
   ]
  },
  {
   "cell_type": "code",
   "execution_count": 2,
   "metadata": {},
   "outputs": [
    {
     "name": "stdout",
     "output_type": "stream",
     "text": [
      "CPU times: total: 5.11 s\n",
      "Wall time: 5.55 s\n"
     ]
    }
   ],
   "source": [
    "%%time\n",
    "clf = DecisionTreeClassifier(ccp_alpha = 0.001 , random_state= 21).fit(X_train , y_train)"
   ]
  },
  {
   "cell_type": "code",
   "execution_count": 3,
   "metadata": {},
   "outputs": [
    {
     "name": "stdout",
     "output_type": "stream",
     "text": [
      "Acurácia na base de treino 97.6\n",
      "Acurácia na base de teste 88.0\n"
     ]
    }
   ],
   "source": [
    "print('Acurácia na base de treino {:.1f}'.format(clf.score(X_train , y_train) * 100))\n",
    "print('Acurácia na base de teste {:.1f}'.format(clf.score(X_test , y_test) * 100))"
   ]
  },
  {
   "cell_type": "markdown",
   "metadata": {},
   "source": [
    "## Árvore com PCA\n",
    "\n",
    "Faça uma análise de componemtes principais das variáveis originais. Utilize apenas uma componente. Faça uma árvore de decisão com esta componente como variável explicativa.\n",
    "\n",
    "- Avalie a acurácia nas bases de treinamento e teste\n",
    "- Avalie o tempo de processamento"
   ]
  },
  {
   "cell_type": "code",
   "execution_count": 4,
   "metadata": {},
   "outputs": [
    {
     "name": "stdout",
     "output_type": "stream",
     "text": [
      "CPU times: total: 219 ms\n",
      "Wall time: 192 ms\n"
     ]
    }
   ],
   "source": [
    "%%time\n",
    "prcomp = PCA(n_components=1).fit(X_train)\n",
    "pc_train = prcomp.transform(X_train)\n",
    "pc_test = prcomp.transform(X_test)"
   ]
  },
  {
   "cell_type": "code",
   "execution_count": 5,
   "metadata": {},
   "outputs": [],
   "source": [
    "clf.fit(pc_train , y_train)\n",
    "test_acc = clf.score(pc_test , y_test)\n",
    "train_acc = clf.score(pc_train , y_train)"
   ]
  },
  {
   "cell_type": "code",
   "execution_count": 6,
   "metadata": {},
   "outputs": [
    {
     "name": "stdout",
     "output_type": "stream",
     "text": [
      "Acurácia na base de treino 50.0\n",
      "Acurácia na base de teste 45.7\n"
     ]
    }
   ],
   "source": [
    "print('Acurácia na base de treino {:.1f}'.format(train_acc * 100))\n",
    "print('Acurácia na base de teste {:.1f}'.format(test_acc * 100))"
   ]
  },
  {
   "cell_type": "markdown",
   "metadata": {},
   "source": [
    "## Testando o número de componentes\n",
    "\n",
    "Com base no código acima, teste a árvore de classificação com pelo menos as seguintes possibilidades de quantidades de componentes: ```[1, 2, 5, 10, 50]```. Avalie para cada uma delas:\n",
    "\n",
    "- Acurácia nas bases de treino e teste\n",
    "- Tempo de processamento\n"
   ]
  },
  {
   "cell_type": "code",
   "execution_count": 19,
   "metadata": {},
   "outputs": [],
   "source": [
    "path = DecisionTreeClassifier(random_state= 21).cost_complexity_pruning_path(pc_train , y_train)\n",
    "ccp_alphas , impurities = path.ccp_alphas , path.impurities\n",
    "\n",
    "ccp_alphas = np.unique(ccp_alphas[ccp_alphas>=0])\n",
    "\n",
    "clfs = []\n",
    "\n",
    "for ccp_alpha in ccp_alphas:\n",
    "    clf = DecisionTreeClassifier(random_state= 21 , ccp_alpha= ccp_alpha).fit(pc_train , y_train)\n",
    "    clfs.append(clf)"
   ]
  },
  {
   "cell_type": "code",
   "execution_count": 26,
   "metadata": {},
   "outputs": [
    {
     "name": "stdout",
     "output_type": "stream",
     "text": [
      "CPU times: total: 2.36 s\n",
      "Wall time: 2.17 s\n"
     ]
    }
   ],
   "source": [
    "%%time\n",
    "n = [1 , 2 , 5 , 10 , 50]\n",
    "train_acc = []\n",
    "test_acc = []\n",
    "time_process = []\n",
    "\n",
    "for n_comp in n:\n",
    "    start = time.time()\n",
    "    prcomp = PCA(n_components=n_comp).fit(X_train)\n",
    "    pc_train = prcomp.transform(X_train)\n",
    "    pc_test = prcomp.transform(X_test)\n",
    "    \n",
    "    clf = DecisionTreeClassifier(ccp_alpha = 0.001 , random_state= 21).fit(pc_train , y_train) \n",
    "    train_acc.append(clf.score(pc_train , y_train) * 100)\n",
    "    \n",
    "    clf = clf.fit(pc_test , y_test)\n",
    "    test_acc.append(clf.score(pc_test , y_test) * 100)\n",
    "    end = (time.time() - start)\n",
    "    time_process.append(end)"
   ]
  },
  {
   "cell_type": "code",
   "execution_count": 35,
   "metadata": {},
   "outputs": [
    {
     "name": "stdout",
     "output_type": "stream",
     "text": [
      "Acurácia na base de treino 91.9\n",
      "Acurácia na base de teste 97.3\n",
      "O tempo de processamento na árvore de 50 componentes foi de 1.08 segundos\n"
     ]
    }
   ],
   "source": [
    "print('Acurácia na base de treino {:.1f}'.format(max(train_acc)))\n",
    "print('Acurácia na base de teste {:.1f}'.format(max(test_acc)))\n",
    "print('O tempo de processamento na árvore de {} componentes foi de {} segundos'.format((max(n)) , round(max(time_process) , 2)))"
   ]
  },
  {
   "cell_type": "markdown",
   "metadata": {},
   "source": [
    "## Conclua\n",
    "\n",
    "- O que aconteceu com a acurácia?\n",
    "- O que aconteceu com o tempo de processamento?"
   ]
  },
  {
   "cell_type": "markdown",
   "metadata": {},
   "source": [
    "A árvore com melhor acurácia 91.9% na base de treino e 97.3% na base de testes, foi a de 50 variáveis e o tempo de processamento foi de 1.08 segundos."
   ]
  }
 ],
 "metadata": {
  "kernelspec": {
   "display_name": "Python 3 (ipykernel)",
   "language": "python",
   "name": "python3"
  },
  "language_info": {
   "codemirror_mode": {
    "name": "ipython",
    "version": 3
   },
   "file_extension": ".py",
   "mimetype": "text/x-python",
   "name": "python",
   "nbconvert_exporter": "python",
   "pygments_lexer": "ipython3",
   "version": "3.12.3"
  },
  "toc": {
   "base_numbering": 1,
   "nav_menu": {},
   "number_sections": true,
   "sideBar": true,
   "skip_h1_title": true,
   "title_cell": "Índice",
   "title_sidebar": "Conteúdo",
   "toc_cell": false,
   "toc_position": {},
   "toc_section_display": true,
   "toc_window_display": false
  },
  "varInspector": {
   "cols": {
    "lenName": 16,
    "lenType": 16,
    "lenVar": 40
   },
   "kernels_config": {
    "python": {
     "delete_cmd_postfix": "",
     "delete_cmd_prefix": "del ",
     "library": "var_list.py",
     "varRefreshCmd": "print(var_dic_list())"
    },
    "r": {
     "delete_cmd_postfix": ") ",
     "delete_cmd_prefix": "rm(",
     "library": "var_list.r",
     "varRefreshCmd": "cat(var_dic_list()) "
    }
   },
   "types_to_exclude": [
    "module",
    "function",
    "builtin_function_or_method",
    "instance",
    "_Feature"
   ],
   "window_display": false
  },
  "widgets": {
   "application/vnd.jupyter.widget-state+json": {
    "state": {},
    "version_major": 2,
    "version_minor": 0
   }
  }
 },
 "nbformat": 4,
 "nbformat_minor": 4
}
